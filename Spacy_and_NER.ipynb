{
  "nbformat": 4,
  "nbformat_minor": 0,
  "metadata": {
    "colab": {
      "provenance": []
    },
    "kernelspec": {
      "name": "python3",
      "display_name": "Python 3"
    },
    "language_info": {
      "name": "python"
    }
  },
  "cells": [
    {
      "cell_type": "code",
      "source": [],
      "metadata": {
        "id": "ahIeKQ-2LTT8"
      },
      "execution_count": null,
      "outputs": []
    },
    {
      "cell_type": "code",
      "execution_count": null,
      "metadata": {
        "id": "fOjV1jwbHZQI"
      },
      "outputs": [],
      "source": [
        "import spacy\n"
      ]
    },
    {
      "cell_type": "markdown",
      "source": [
        "[Spacy Model](https://spacy.io/models/en)"
      ],
      "metadata": {
        "id": "9GxPFXC1JME9"
      }
    },
    {
      "cell_type": "code",
      "source": [
        "nlp = spacy.load('en_core_web_sm')"
      ],
      "metadata": {
        "id": "JBTeIPuxIC2Y"
      },
      "execution_count": null,
      "outputs": []
    },
    {
      "cell_type": "markdown",
      "source": [
        "###Detecting noun Phrase"
      ],
      "metadata": {
        "id": "fFW3RK48LpH3"
      }
    },
    {
      "cell_type": "code",
      "source": [
        "\n",
        "# Process whole documents\n",
        "text = \"\"\"KATHMANDU, JUNE 30The Special Court convicted former executive director of Nepal Oil Corporation Gopal Bahadur Khadka of corruption. A bench of the Special Court Chair Shree Kanta Paudel and Judges Sharligram Koirala and Khushi Prasad Tharu imposed one year and three months jail sentence and Rs 90.19 million fine on Khadka.The Commission for the Investigation of Abuse of Authority had on 7 January 2019 filed a corruption case against Khadka at the Special Court accusing him of amassing disproportionate assets worth more than Rs 180 million.\n",
        "According to Spokesperson for Special Court Dipendranath Yogi, the court also decided to confiscate Khadka's house, land, and shares as claimed by the CIAA. The court also decided to confiscate three land plots registered in the name of Sharmila (his wife) and Amita Lama Sodemba.The CIAA had stated that Khadka's valid income was Rs 86,469,751 but his expenditure and investment was worth Rs 273,075,380.The CIAA had stated that during the investigation period, Khadka bought three houses. He also has an ancestral house. He made partial payments for two other houses and also bought 11 plots in Kathmandu, Lalitpur, Bhaktapur and Kavreplanchowk districts. Khadka kept property worth more than 70 million rupees in the name of Amita Lama Sodemba, a resident of Ward No 4 of Budhanilkantha Municipality.\"\"\""
      ],
      "metadata": {
        "id": "g6TdqCkpIayG"
      },
      "execution_count": null,
      "outputs": []
    },
    {
      "cell_type": "code",
      "source": [
        "doc = nlp(text)\n",
        "doc"
      ],
      "metadata": {
        "colab": {
          "base_uri": "https://localhost:8080/"
        },
        "id": "fmwKN43PJojm",
        "outputId": "42e5ef31-0d48-4345-fbda-d52c15d06bf1"
      },
      "execution_count": null,
      "outputs": [
        {
          "output_type": "execute_result",
          "data": {
            "text/plain": [
              "KATHMANDU, JUNE 30The Special Court convicted former executive director of Nepal Oil Corporation Gopal Bahadur Khadka of corruption. A bench of the Special Court Chair Shree Kanta Paudel and Judges Sharligram Koirala and Khushi Prasad Tharu imposed one year and three months jail sentence and Rs 90.19 million fine on Khadka.The Commission for the Investigation of Abuse of Authority had on 7 January 2019 filed a corruption case against Khadka at the Special Court accusing him of amassing disproportionate assets worth more than Rs 180 million.\n",
              "According to Spokesperson for Special Court Dipendranath Yogi, the court also decided to confiscate Khadka's house, land, and shares as claimed by the CIAA. The court also decided to confiscate three land plots registered in the name of Sharmila (his wife) and Amita Lama Sodemba.The CIAA had stated that Khadka's valid income was Rs 86,469,751 but his expenditure and investment was worth Rs 273,075,380.The CIAA had stated that during the investigation period, Khadka bought three houses. He also has an ancestral house. He made partial payments for two other houses and also bought 11 plots in Kathmandu, Lalitpur, Bhaktapur and Kavreplanchowk districts. Khadka kept property worth more than 70 million rupees in the name of Amita Lama Sodemba, a resident of Ward No 4 of Budhanilkantha Municipality."
            ]
          },
          "metadata": {},
          "execution_count": 24
        }
      ]
    },
    {
      "cell_type": "code",
      "source": [
        "doc.ents"
      ],
      "metadata": {
        "colab": {
          "base_uri": "https://localhost:8080/"
        },
        "id": "VM7KGh6MKPQ9",
        "outputId": "617a5faa-fdfd-41a0-c215-691bd1209a5e"
      },
      "execution_count": null,
      "outputs": [
        {
          "output_type": "execute_result",
          "data": {
            "text/plain": [
              "(KATHMANDU,\n",
              " Nepal Oil Corporation Gopal Bahadur Khadka,\n",
              " the Special Court Chair Shree,\n",
              " Kanta Paudel,\n",
              " Sharligram Koirala,\n",
              " Khushi Prasad Tharu,\n",
              " one year and three months,\n",
              " Rs 90.19 million,\n",
              " Khadka,\n",
              " 7 January 2019,\n",
              " Khadka,\n",
              " the Special Court,\n",
              " more than,\n",
              " 180 million,\n",
              " Spokesperson for Special Court,\n",
              " Dipendranath Yogi,\n",
              " Khadka,\n",
              " CIAA,\n",
              " three,\n",
              " Sharmila,\n",
              " Amita Lama Sodemba,\n",
              " CIAA,\n",
              " Khadka,\n",
              " Rs 273,075,380.The,\n",
              " CIAA,\n",
              " Khadka,\n",
              " three,\n",
              " two,\n",
              " 11,\n",
              " Kathmandu,\n",
              " Lalitpur,\n",
              " Bhaktapur,\n",
              " Kavreplanchowk,\n",
              " more than 70 million,\n",
              " Amita Lama Sodemba,\n",
              " Ward No 4,\n",
              " Budhanilkantha Municipality)"
            ]
          },
          "metadata": {},
          "execution_count": 25
        }
      ]
    },
    {
      "cell_type": "code",
      "source": [
        "from spacy import displacy\n",
        "displacy.render(doc, style = 'ent', jupyter = True)"
      ],
      "metadata": {
        "colab": {
          "base_uri": "https://localhost:8080/",
          "height": 297
        },
        "id": "Q371tyVPKiWB",
        "outputId": "88792efb-900b-49bb-9aa1-b468e2821396"
      },
      "execution_count": null,
      "outputs": [
        {
          "output_type": "display_data",
          "data": {
            "text/plain": [
              "<IPython.core.display.HTML object>"
            ],
            "text/html": [
              "<span class=\"tex2jax_ignore\"><div class=\"entities\" style=\"line-height: 2.5; direction: ltr\">\n",
              "<mark class=\"entity\" style=\"background: #7aecec; padding: 0.45em 0.6em; margin: 0 0.25em; line-height: 1; border-radius: 0.35em;\">\n",
              "    KATHMANDU\n",
              "    <span style=\"font-size: 0.8em; font-weight: bold; line-height: 1; border-radius: 0.35em; vertical-align: middle; margin-left: 0.5rem\">ORG</span>\n",
              "</mark>\n",
              ", JUNE 30The Special Court convicted former executive director of \n",
              "<mark class=\"entity\" style=\"background: #7aecec; padding: 0.45em 0.6em; margin: 0 0.25em; line-height: 1; border-radius: 0.35em;\">\n",
              "    Nepal Oil Corporation Gopal Bahadur Khadka\n",
              "    <span style=\"font-size: 0.8em; font-weight: bold; line-height: 1; border-radius: 0.35em; vertical-align: middle; margin-left: 0.5rem\">ORG</span>\n",
              "</mark>\n",
              " of corruption. A bench of \n",
              "<mark class=\"entity\" style=\"background: #7aecec; padding: 0.45em 0.6em; margin: 0 0.25em; line-height: 1; border-radius: 0.35em;\">\n",
              "    the Special Court Chair Shree\n",
              "    <span style=\"font-size: 0.8em; font-weight: bold; line-height: 1; border-radius: 0.35em; vertical-align: middle; margin-left: 0.5rem\">ORG</span>\n",
              "</mark>\n",
              " \n",
              "<mark class=\"entity\" style=\"background: #aa9cfc; padding: 0.45em 0.6em; margin: 0 0.25em; line-height: 1; border-radius: 0.35em;\">\n",
              "    Kanta Paudel\n",
              "    <span style=\"font-size: 0.8em; font-weight: bold; line-height: 1; border-radius: 0.35em; vertical-align: middle; margin-left: 0.5rem\">PERSON</span>\n",
              "</mark>\n",
              " and Judges \n",
              "<mark class=\"entity\" style=\"background: #aa9cfc; padding: 0.45em 0.6em; margin: 0 0.25em; line-height: 1; border-radius: 0.35em;\">\n",
              "    Sharligram Koirala\n",
              "    <span style=\"font-size: 0.8em; font-weight: bold; line-height: 1; border-radius: 0.35em; vertical-align: middle; margin-left: 0.5rem\">PERSON</span>\n",
              "</mark>\n",
              " and \n",
              "<mark class=\"entity\" style=\"background: #7aecec; padding: 0.45em 0.6em; margin: 0 0.25em; line-height: 1; border-radius: 0.35em;\">\n",
              "    Khushi Prasad Tharu\n",
              "    <span style=\"font-size: 0.8em; font-weight: bold; line-height: 1; border-radius: 0.35em; vertical-align: middle; margin-left: 0.5rem\">ORG</span>\n",
              "</mark>\n",
              " imposed \n",
              "<mark class=\"entity\" style=\"background: #bfe1d9; padding: 0.45em 0.6em; margin: 0 0.25em; line-height: 1; border-radius: 0.35em;\">\n",
              "    one year and three months\n",
              "    <span style=\"font-size: 0.8em; font-weight: bold; line-height: 1; border-radius: 0.35em; vertical-align: middle; margin-left: 0.5rem\">DATE</span>\n",
              "</mark>\n",
              " jail sentence and \n",
              "<mark class=\"entity\" style=\"background: #bfeeb7; padding: 0.45em 0.6em; margin: 0 0.25em; line-height: 1; border-radius: 0.35em;\">\n",
              "    Rs 90.19 million\n",
              "    <span style=\"font-size: 0.8em; font-weight: bold; line-height: 1; border-radius: 0.35em; vertical-align: middle; margin-left: 0.5rem\">PRODUCT</span>\n",
              "</mark>\n",
              " fine on \n",
              "<mark class=\"entity\" style=\"background: #feca74; padding: 0.45em 0.6em; margin: 0 0.25em; line-height: 1; border-radius: 0.35em;\">\n",
              "    Khadka\n",
              "    <span style=\"font-size: 0.8em; font-weight: bold; line-height: 1; border-radius: 0.35em; vertical-align: middle; margin-left: 0.5rem\">GPE</span>\n",
              "</mark>\n",
              ".The Commission for the Investigation of Abuse of Authority had on \n",
              "<mark class=\"entity\" style=\"background: #bfe1d9; padding: 0.45em 0.6em; margin: 0 0.25em; line-height: 1; border-radius: 0.35em;\">\n",
              "    7 January 2019\n",
              "    <span style=\"font-size: 0.8em; font-weight: bold; line-height: 1; border-radius: 0.35em; vertical-align: middle; margin-left: 0.5rem\">DATE</span>\n",
              "</mark>\n",
              " filed a corruption case against \n",
              "<mark class=\"entity\" style=\"background: #aa9cfc; padding: 0.45em 0.6em; margin: 0 0.25em; line-height: 1; border-radius: 0.35em;\">\n",
              "    Khadka\n",
              "    <span style=\"font-size: 0.8em; font-weight: bold; line-height: 1; border-radius: 0.35em; vertical-align: middle; margin-left: 0.5rem\">PERSON</span>\n",
              "</mark>\n",
              " at \n",
              "<mark class=\"entity\" style=\"background: #7aecec; padding: 0.45em 0.6em; margin: 0 0.25em; line-height: 1; border-radius: 0.35em;\">\n",
              "    the Special Court\n",
              "    <span style=\"font-size: 0.8em; font-weight: bold; line-height: 1; border-radius: 0.35em; vertical-align: middle; margin-left: 0.5rem\">ORG</span>\n",
              "</mark>\n",
              " accusing him of amassing disproportionate assets worth \n",
              "<mark class=\"entity\" style=\"background: #e4e7d2; padding: 0.45em 0.6em; margin: 0 0.25em; line-height: 1; border-radius: 0.35em;\">\n",
              "    more than\n",
              "    <span style=\"font-size: 0.8em; font-weight: bold; line-height: 1; border-radius: 0.35em; vertical-align: middle; margin-left: 0.5rem\">CARDINAL</span>\n",
              "</mark>\n",
              " Rs \n",
              "<mark class=\"entity\" style=\"background: #e4e7d2; padding: 0.45em 0.6em; margin: 0 0.25em; line-height: 1; border-radius: 0.35em;\">\n",
              "    180 million\n",
              "    <span style=\"font-size: 0.8em; font-weight: bold; line-height: 1; border-radius: 0.35em; vertical-align: middle; margin-left: 0.5rem\">CARDINAL</span>\n",
              "</mark>\n",
              ".</br>According to \n",
              "<mark class=\"entity\" style=\"background: #7aecec; padding: 0.45em 0.6em; margin: 0 0.25em; line-height: 1; border-radius: 0.35em;\">\n",
              "    Spokesperson for Special Court\n",
              "    <span style=\"font-size: 0.8em; font-weight: bold; line-height: 1; border-radius: 0.35em; vertical-align: middle; margin-left: 0.5rem\">ORG</span>\n",
              "</mark>\n",
              " \n",
              "<mark class=\"entity\" style=\"background: #aa9cfc; padding: 0.45em 0.6em; margin: 0 0.25em; line-height: 1; border-radius: 0.35em;\">\n",
              "    Dipendranath Yogi\n",
              "    <span style=\"font-size: 0.8em; font-weight: bold; line-height: 1; border-radius: 0.35em; vertical-align: middle; margin-left: 0.5rem\">PERSON</span>\n",
              "</mark>\n",
              ", the court also decided to confiscate \n",
              "<mark class=\"entity\" style=\"background: #aa9cfc; padding: 0.45em 0.6em; margin: 0 0.25em; line-height: 1; border-radius: 0.35em;\">\n",
              "    Khadka\n",
              "    <span style=\"font-size: 0.8em; font-weight: bold; line-height: 1; border-radius: 0.35em; vertical-align: middle; margin-left: 0.5rem\">PERSON</span>\n",
              "</mark>\n",
              "'s house, land, and shares as claimed by the \n",
              "<mark class=\"entity\" style=\"background: #7aecec; padding: 0.45em 0.6em; margin: 0 0.25em; line-height: 1; border-radius: 0.35em;\">\n",
              "    CIAA\n",
              "    <span style=\"font-size: 0.8em; font-weight: bold; line-height: 1; border-radius: 0.35em; vertical-align: middle; margin-left: 0.5rem\">ORG</span>\n",
              "</mark>\n",
              ". The court also decided to confiscate \n",
              "<mark class=\"entity\" style=\"background: #e4e7d2; padding: 0.45em 0.6em; margin: 0 0.25em; line-height: 1; border-radius: 0.35em;\">\n",
              "    three\n",
              "    <span style=\"font-size: 0.8em; font-weight: bold; line-height: 1; border-radius: 0.35em; vertical-align: middle; margin-left: 0.5rem\">CARDINAL</span>\n",
              "</mark>\n",
              " land plots registered in the name of \n",
              "<mark class=\"entity\" style=\"background: #aa9cfc; padding: 0.45em 0.6em; margin: 0 0.25em; line-height: 1; border-radius: 0.35em;\">\n",
              "    Sharmila\n",
              "    <span style=\"font-size: 0.8em; font-weight: bold; line-height: 1; border-radius: 0.35em; vertical-align: middle; margin-left: 0.5rem\">PERSON</span>\n",
              "</mark>\n",
              " (his wife) and \n",
              "<mark class=\"entity\" style=\"background: #aa9cfc; padding: 0.45em 0.6em; margin: 0 0.25em; line-height: 1; border-radius: 0.35em;\">\n",
              "    Amita Lama Sodemba\n",
              "    <span style=\"font-size: 0.8em; font-weight: bold; line-height: 1; border-radius: 0.35em; vertical-align: middle; margin-left: 0.5rem\">PERSON</span>\n",
              "</mark>\n",
              ".The \n",
              "<mark class=\"entity\" style=\"background: #7aecec; padding: 0.45em 0.6em; margin: 0 0.25em; line-height: 1; border-radius: 0.35em;\">\n",
              "    CIAA\n",
              "    <span style=\"font-size: 0.8em; font-weight: bold; line-height: 1; border-radius: 0.35em; vertical-align: middle; margin-left: 0.5rem\">ORG</span>\n",
              "</mark>\n",
              " had stated that \n",
              "<mark class=\"entity\" style=\"background: #aa9cfc; padding: 0.45em 0.6em; margin: 0 0.25em; line-height: 1; border-radius: 0.35em;\">\n",
              "    Khadka\n",
              "    <span style=\"font-size: 0.8em; font-weight: bold; line-height: 1; border-radius: 0.35em; vertical-align: middle; margin-left: 0.5rem\">PERSON</span>\n",
              "</mark>\n",
              "'s valid income was Rs 86,469,751 but his expenditure and investment was worth \n",
              "<mark class=\"entity\" style=\"background: #7aecec; padding: 0.45em 0.6em; margin: 0 0.25em; line-height: 1; border-radius: 0.35em;\">\n",
              "    Rs 273,075,380.The\n",
              "    <span style=\"font-size: 0.8em; font-weight: bold; line-height: 1; border-radius: 0.35em; vertical-align: middle; margin-left: 0.5rem\">ORG</span>\n",
              "</mark>\n",
              " \n",
              "<mark class=\"entity\" style=\"background: #7aecec; padding: 0.45em 0.6em; margin: 0 0.25em; line-height: 1; border-radius: 0.35em;\">\n",
              "    CIAA\n",
              "    <span style=\"font-size: 0.8em; font-weight: bold; line-height: 1; border-radius: 0.35em; vertical-align: middle; margin-left: 0.5rem\">ORG</span>\n",
              "</mark>\n",
              " had stated that during the investigation period, \n",
              "<mark class=\"entity\" style=\"background: #aa9cfc; padding: 0.45em 0.6em; margin: 0 0.25em; line-height: 1; border-radius: 0.35em;\">\n",
              "    Khadka\n",
              "    <span style=\"font-size: 0.8em; font-weight: bold; line-height: 1; border-radius: 0.35em; vertical-align: middle; margin-left: 0.5rem\">PERSON</span>\n",
              "</mark>\n",
              " bought \n",
              "<mark class=\"entity\" style=\"background: #e4e7d2; padding: 0.45em 0.6em; margin: 0 0.25em; line-height: 1; border-radius: 0.35em;\">\n",
              "    three\n",
              "    <span style=\"font-size: 0.8em; font-weight: bold; line-height: 1; border-radius: 0.35em; vertical-align: middle; margin-left: 0.5rem\">CARDINAL</span>\n",
              "</mark>\n",
              " houses. He also has an ancestral house. He made partial payments for \n",
              "<mark class=\"entity\" style=\"background: #e4e7d2; padding: 0.45em 0.6em; margin: 0 0.25em; line-height: 1; border-radius: 0.35em;\">\n",
              "    two\n",
              "    <span style=\"font-size: 0.8em; font-weight: bold; line-height: 1; border-radius: 0.35em; vertical-align: middle; margin-left: 0.5rem\">CARDINAL</span>\n",
              "</mark>\n",
              " other houses and also bought \n",
              "<mark class=\"entity\" style=\"background: #e4e7d2; padding: 0.45em 0.6em; margin: 0 0.25em; line-height: 1; border-radius: 0.35em;\">\n",
              "    11\n",
              "    <span style=\"font-size: 0.8em; font-weight: bold; line-height: 1; border-radius: 0.35em; vertical-align: middle; margin-left: 0.5rem\">CARDINAL</span>\n",
              "</mark>\n",
              " plots in \n",
              "<mark class=\"entity\" style=\"background: #feca74; padding: 0.45em 0.6em; margin: 0 0.25em; line-height: 1; border-radius: 0.35em;\">\n",
              "    Kathmandu\n",
              "    <span style=\"font-size: 0.8em; font-weight: bold; line-height: 1; border-radius: 0.35em; vertical-align: middle; margin-left: 0.5rem\">GPE</span>\n",
              "</mark>\n",
              ", \n",
              "<mark class=\"entity\" style=\"background: #feca74; padding: 0.45em 0.6em; margin: 0 0.25em; line-height: 1; border-radius: 0.35em;\">\n",
              "    Lalitpur\n",
              "    <span style=\"font-size: 0.8em; font-weight: bold; line-height: 1; border-radius: 0.35em; vertical-align: middle; margin-left: 0.5rem\">GPE</span>\n",
              "</mark>\n",
              ", \n",
              "<mark class=\"entity\" style=\"background: #feca74; padding: 0.45em 0.6em; margin: 0 0.25em; line-height: 1; border-radius: 0.35em;\">\n",
              "    Bhaktapur\n",
              "    <span style=\"font-size: 0.8em; font-weight: bold; line-height: 1; border-radius: 0.35em; vertical-align: middle; margin-left: 0.5rem\">GPE</span>\n",
              "</mark>\n",
              " and \n",
              "<mark class=\"entity\" style=\"background: #7aecec; padding: 0.45em 0.6em; margin: 0 0.25em; line-height: 1; border-radius: 0.35em;\">\n",
              "    Kavreplanchowk\n",
              "    <span style=\"font-size: 0.8em; font-weight: bold; line-height: 1; border-radius: 0.35em; vertical-align: middle; margin-left: 0.5rem\">ORG</span>\n",
              "</mark>\n",
              " districts. Khadka kept property worth \n",
              "<mark class=\"entity\" style=\"background: #e4e7d2; padding: 0.45em 0.6em; margin: 0 0.25em; line-height: 1; border-radius: 0.35em;\">\n",
              "    more than 70 million\n",
              "    <span style=\"font-size: 0.8em; font-weight: bold; line-height: 1; border-radius: 0.35em; vertical-align: middle; margin-left: 0.5rem\">QUANTITY</span>\n",
              "</mark>\n",
              " rupees in the name of \n",
              "<mark class=\"entity\" style=\"background: #aa9cfc; padding: 0.45em 0.6em; margin: 0 0.25em; line-height: 1; border-radius: 0.35em;\">\n",
              "    Amita Lama Sodemba\n",
              "    <span style=\"font-size: 0.8em; font-weight: bold; line-height: 1; border-radius: 0.35em; vertical-align: middle; margin-left: 0.5rem\">PERSON</span>\n",
              "</mark>\n",
              ", a resident of \n",
              "<mark class=\"entity\" style=\"background: #7aecec; padding: 0.45em 0.6em; margin: 0 0.25em; line-height: 1; border-radius: 0.35em;\">\n",
              "    Ward No 4\n",
              "    <span style=\"font-size: 0.8em; font-weight: bold; line-height: 1; border-radius: 0.35em; vertical-align: middle; margin-left: 0.5rem\">ORG</span>\n",
              "</mark>\n",
              " of \n",
              "<mark class=\"entity\" style=\"background: #feca74; padding: 0.45em 0.6em; margin: 0 0.25em; line-height: 1; border-radius: 0.35em;\">\n",
              "    Budhanilkantha Municipality\n",
              "    <span style=\"font-size: 0.8em; font-weight: bold; line-height: 1; border-radius: 0.35em; vertical-align: middle; margin-left: 0.5rem\">GPE</span>\n",
              "</mark>\n",
              ".</div></span>"
            ]
          },
          "metadata": {}
        }
      ]
    },
    {
      "cell_type": "code",
      "source": [
        "# Analyze syntax\n",
        "print(\"Noun phrases:\", [chunk.text for chunk in doc.noun_chunks])\n",
        "print(\"Verbs:\", [token.lemma_ for token in doc if token.pos_ == \"VERB\"])"
      ],
      "metadata": {
        "colab": {
          "base_uri": "https://localhost:8080/"
        },
        "id": "9E33U9MfJ133",
        "outputId": "6000e5e5-177b-463f-ecd1-d06344b0d941"
      },
      "execution_count": null,
      "outputs": [
        {
          "output_type": "stream",
          "name": "stdout",
          "text": [
            "Noun phrases: ['KATHMANDU', 'JUNE 30The Special Court', 'former executive director', 'Nepal Oil Corporation Gopal Bahadur Khadka', 'corruption', 'A bench', 'the Special Court Chair Shree Kanta Paudel and Judges Sharligram Koirala', 'Khushi Prasad Tharu', 'jail sentence', 'Rs 90.19 million fine', 'Khadka', 'The Commission', 'the Investigation', 'Abuse', 'Authority', '7 January', 'a corruption case', 'Khadka', 'the Special Court', 'him', 'disproportionate assets', 'Spokesperson', 'Special Court Dipendranath Yogi', 'the court', \"Khadka's house\", 'land', 'shares', 'the CIAA', 'The court', 'three land plots', 'the name', 'Sharmila', 'his wife', 'Amita Lama Sodemba', 'The CIAA', \"Khadka's valid income\", 'his expenditure', 'investment', 'Rs 273,075,380.The CIAA', 'the investigation period', 'Khadka', 'three houses', 'He', 'an ancestral house', 'He', 'partial payments', 'two other houses', '11 plots', 'Kathmandu', 'Lalitpur', 'Bhaktapur', 'Kavreplanchowk districts', 'Khadka', 'property', 'more than 70 million rupees', 'the name', 'Amita Lama Sodemba', 'a resident', 'Ward', 'Budhanilkantha Municipality']\n",
            "Verbs: ['convict', 'impose', 'file', 'accuse', 'amass', 'accord', 'decide', 'confiscate', 'claim', 'decide', 'confiscate', 'register', 'state', 'state', 'buy', 'have', 'make', 'buy', 'keep']\n"
          ]
        }
      ]
    },
    {
      "cell_type": "code",
      "source": [
        "nlp = spacy.load('en_core_web_trf')\n",
        "doc = nlp(text)"
      ],
      "metadata": {
        "id": "XWWi9Nw4J-Ct"
      },
      "execution_count": null,
      "outputs": []
    },
    {
      "cell_type": "code",
      "source": [],
      "metadata": {
        "id": "lCJOiz5TM01m"
      },
      "execution_count": null,
      "outputs": []
    },
    {
      "cell_type": "code",
      "source": [
        "from spacy import displacy\n",
        "displacy.render(doc, style = 'ent', jupyter = True)"
      ],
      "metadata": {
        "colab": {
          "base_uri": "https://localhost:8080/",
          "height": 297
        },
        "id": "0Z4xzQ5NK7tV",
        "outputId": "410dad3f-c3e6-4248-8a79-5f241b9979a3"
      },
      "execution_count": null,
      "outputs": [
        {
          "output_type": "display_data",
          "data": {
            "text/plain": [
              "<IPython.core.display.HTML object>"
            ],
            "text/html": [
              "<span class=\"tex2jax_ignore\"><div class=\"entities\" style=\"line-height: 2.5; direction: ltr\">\n",
              "<mark class=\"entity\" style=\"background: #feca74; padding: 0.45em 0.6em; margin: 0 0.25em; line-height: 1; border-radius: 0.35em;\">\n",
              "    KATHMANDU\n",
              "    <span style=\"font-size: 0.8em; font-weight: bold; line-height: 1; border-radius: 0.35em; vertical-align: middle; margin-left: 0.5rem\">GPE</span>\n",
              "</mark>\n",
              ", JUNE 30The \n",
              "<mark class=\"entity\" style=\"background: #7aecec; padding: 0.45em 0.6em; margin: 0 0.25em; line-height: 1; border-radius: 0.35em;\">\n",
              "    Special Court\n",
              "    <span style=\"font-size: 0.8em; font-weight: bold; line-height: 1; border-radius: 0.35em; vertical-align: middle; margin-left: 0.5rem\">ORG</span>\n",
              "</mark>\n",
              " convicted former executive director of \n",
              "<mark class=\"entity\" style=\"background: #7aecec; padding: 0.45em 0.6em; margin: 0 0.25em; line-height: 1; border-radius: 0.35em;\">\n",
              "    Nepal Oil Corporation\n",
              "    <span style=\"font-size: 0.8em; font-weight: bold; line-height: 1; border-radius: 0.35em; vertical-align: middle; margin-left: 0.5rem\">ORG</span>\n",
              "</mark>\n",
              " \n",
              "<mark class=\"entity\" style=\"background: #aa9cfc; padding: 0.45em 0.6em; margin: 0 0.25em; line-height: 1; border-radius: 0.35em;\">\n",
              "    Gopal Bahadur Khadka\n",
              "    <span style=\"font-size: 0.8em; font-weight: bold; line-height: 1; border-radius: 0.35em; vertical-align: middle; margin-left: 0.5rem\">PERSON</span>\n",
              "</mark>\n",
              " of corruption. A bench of the \n",
              "<mark class=\"entity\" style=\"background: #7aecec; padding: 0.45em 0.6em; margin: 0 0.25em; line-height: 1; border-radius: 0.35em;\">\n",
              "    Special Court\n",
              "    <span style=\"font-size: 0.8em; font-weight: bold; line-height: 1; border-radius: 0.35em; vertical-align: middle; margin-left: 0.5rem\">ORG</span>\n",
              "</mark>\n",
              " Chair \n",
              "<mark class=\"entity\" style=\"background: #aa9cfc; padding: 0.45em 0.6em; margin: 0 0.25em; line-height: 1; border-radius: 0.35em;\">\n",
              "    Shree Kanta Paudel\n",
              "    <span style=\"font-size: 0.8em; font-weight: bold; line-height: 1; border-radius: 0.35em; vertical-align: middle; margin-left: 0.5rem\">PERSON</span>\n",
              "</mark>\n",
              " and Judges \n",
              "<mark class=\"entity\" style=\"background: #aa9cfc; padding: 0.45em 0.6em; margin: 0 0.25em; line-height: 1; border-radius: 0.35em;\">\n",
              "    Sharligram Koirala\n",
              "    <span style=\"font-size: 0.8em; font-weight: bold; line-height: 1; border-radius: 0.35em; vertical-align: middle; margin-left: 0.5rem\">PERSON</span>\n",
              "</mark>\n",
              " and \n",
              "<mark class=\"entity\" style=\"background: #aa9cfc; padding: 0.45em 0.6em; margin: 0 0.25em; line-height: 1; border-radius: 0.35em;\">\n",
              "    Khushi Prasad Tharu\n",
              "    <span style=\"font-size: 0.8em; font-weight: bold; line-height: 1; border-radius: 0.35em; vertical-align: middle; margin-left: 0.5rem\">PERSON</span>\n",
              "</mark>\n",
              " imposed \n",
              "<mark class=\"entity\" style=\"background: #bfe1d9; padding: 0.45em 0.6em; margin: 0 0.25em; line-height: 1; border-radius: 0.35em;\">\n",
              "    one year and three months\n",
              "    <span style=\"font-size: 0.8em; font-weight: bold; line-height: 1; border-radius: 0.35em; vertical-align: middle; margin-left: 0.5rem\">DATE</span>\n",
              "</mark>\n",
              " jail sentence and \n",
              "<mark class=\"entity\" style=\"background: #e4e7d2; padding: 0.45em 0.6em; margin: 0 0.25em; line-height: 1; border-radius: 0.35em;\">\n",
              "    Rs 90.19 million\n",
              "    <span style=\"font-size: 0.8em; font-weight: bold; line-height: 1; border-radius: 0.35em; vertical-align: middle; margin-left: 0.5rem\">MONEY</span>\n",
              "</mark>\n",
              " fine on \n",
              "<mark class=\"entity\" style=\"background: #aa9cfc; padding: 0.45em 0.6em; margin: 0 0.25em; line-height: 1; border-radius: 0.35em;\">\n",
              "    Khadka\n",
              "    <span style=\"font-size: 0.8em; font-weight: bold; line-height: 1; border-radius: 0.35em; vertical-align: middle; margin-left: 0.5rem\">PERSON</span>\n",
              "</mark>\n",
              ".\n",
              "<mark class=\"entity\" style=\"background: #7aecec; padding: 0.45em 0.6em; margin: 0 0.25em; line-height: 1; border-radius: 0.35em;\">\n",
              "    The Commission for the Investigation of Abuse of Authority\n",
              "    <span style=\"font-size: 0.8em; font-weight: bold; line-height: 1; border-radius: 0.35em; vertical-align: middle; margin-left: 0.5rem\">ORG</span>\n",
              "</mark>\n",
              " had on \n",
              "<mark class=\"entity\" style=\"background: #bfe1d9; padding: 0.45em 0.6em; margin: 0 0.25em; line-height: 1; border-radius: 0.35em;\">\n",
              "    7 January 2019\n",
              "    <span style=\"font-size: 0.8em; font-weight: bold; line-height: 1; border-radius: 0.35em; vertical-align: middle; margin-left: 0.5rem\">DATE</span>\n",
              "</mark>\n",
              " filed a corruption case against \n",
              "<mark class=\"entity\" style=\"background: #aa9cfc; padding: 0.45em 0.6em; margin: 0 0.25em; line-height: 1; border-radius: 0.35em;\">\n",
              "    Khadka\n",
              "    <span style=\"font-size: 0.8em; font-weight: bold; line-height: 1; border-radius: 0.35em; vertical-align: middle; margin-left: 0.5rem\">PERSON</span>\n",
              "</mark>\n",
              " at \n",
              "<mark class=\"entity\" style=\"background: #7aecec; padding: 0.45em 0.6em; margin: 0 0.25em; line-height: 1; border-radius: 0.35em;\">\n",
              "    the Special Court\n",
              "    <span style=\"font-size: 0.8em; font-weight: bold; line-height: 1; border-radius: 0.35em; vertical-align: middle; margin-left: 0.5rem\">ORG</span>\n",
              "</mark>\n",
              " accusing him of amassing disproportionate assets worth \n",
              "<mark class=\"entity\" style=\"background: #e4e7d2; padding: 0.45em 0.6em; margin: 0 0.25em; line-height: 1; border-radius: 0.35em;\">\n",
              "    more than Rs 180 million\n",
              "    <span style=\"font-size: 0.8em; font-weight: bold; line-height: 1; border-radius: 0.35em; vertical-align: middle; margin-left: 0.5rem\">MONEY</span>\n",
              "</mark>\n",
              ".</br>According to Spokesperson for \n",
              "<mark class=\"entity\" style=\"background: #7aecec; padding: 0.45em 0.6em; margin: 0 0.25em; line-height: 1; border-radius: 0.35em;\">\n",
              "    Special Court\n",
              "    <span style=\"font-size: 0.8em; font-weight: bold; line-height: 1; border-radius: 0.35em; vertical-align: middle; margin-left: 0.5rem\">ORG</span>\n",
              "</mark>\n",
              " \n",
              "<mark class=\"entity\" style=\"background: #aa9cfc; padding: 0.45em 0.6em; margin: 0 0.25em; line-height: 1; border-radius: 0.35em;\">\n",
              "    Dipendranath Yogi\n",
              "    <span style=\"font-size: 0.8em; font-weight: bold; line-height: 1; border-radius: 0.35em; vertical-align: middle; margin-left: 0.5rem\">PERSON</span>\n",
              "</mark>\n",
              ", the court also decided to confiscate \n",
              "<mark class=\"entity\" style=\"background: #aa9cfc; padding: 0.45em 0.6em; margin: 0 0.25em; line-height: 1; border-radius: 0.35em;\">\n",
              "    Khadka\n",
              "    <span style=\"font-size: 0.8em; font-weight: bold; line-height: 1; border-radius: 0.35em; vertical-align: middle; margin-left: 0.5rem\">PERSON</span>\n",
              "</mark>\n",
              "'s house, land, and shares as claimed by the \n",
              "<mark class=\"entity\" style=\"background: #7aecec; padding: 0.45em 0.6em; margin: 0 0.25em; line-height: 1; border-radius: 0.35em;\">\n",
              "    CIAA\n",
              "    <span style=\"font-size: 0.8em; font-weight: bold; line-height: 1; border-radius: 0.35em; vertical-align: middle; margin-left: 0.5rem\">ORG</span>\n",
              "</mark>\n",
              ". The court also decided to confiscate \n",
              "<mark class=\"entity\" style=\"background: #e4e7d2; padding: 0.45em 0.6em; margin: 0 0.25em; line-height: 1; border-radius: 0.35em;\">\n",
              "    three\n",
              "    <span style=\"font-size: 0.8em; font-weight: bold; line-height: 1; border-radius: 0.35em; vertical-align: middle; margin-left: 0.5rem\">CARDINAL</span>\n",
              "</mark>\n",
              " land plots registered in the name of \n",
              "<mark class=\"entity\" style=\"background: #aa9cfc; padding: 0.45em 0.6em; margin: 0 0.25em; line-height: 1; border-radius: 0.35em;\">\n",
              "    Sharmila\n",
              "    <span style=\"font-size: 0.8em; font-weight: bold; line-height: 1; border-radius: 0.35em; vertical-align: middle; margin-left: 0.5rem\">PERSON</span>\n",
              "</mark>\n",
              " (his wife) and \n",
              "<mark class=\"entity\" style=\"background: #aa9cfc; padding: 0.45em 0.6em; margin: 0 0.25em; line-height: 1; border-radius: 0.35em;\">\n",
              "    Amita Lama Sodemba\n",
              "    <span style=\"font-size: 0.8em; font-weight: bold; line-height: 1; border-radius: 0.35em; vertical-align: middle; margin-left: 0.5rem\">PERSON</span>\n",
              "</mark>\n",
              ".The \n",
              "<mark class=\"entity\" style=\"background: #7aecec; padding: 0.45em 0.6em; margin: 0 0.25em; line-height: 1; border-radius: 0.35em;\">\n",
              "    CIAA\n",
              "    <span style=\"font-size: 0.8em; font-weight: bold; line-height: 1; border-radius: 0.35em; vertical-align: middle; margin-left: 0.5rem\">ORG</span>\n",
              "</mark>\n",
              " had stated that \n",
              "<mark class=\"entity\" style=\"background: #aa9cfc; padding: 0.45em 0.6em; margin: 0 0.25em; line-height: 1; border-radius: 0.35em;\">\n",
              "    Khadka\n",
              "    <span style=\"font-size: 0.8em; font-weight: bold; line-height: 1; border-radius: 0.35em; vertical-align: middle; margin-left: 0.5rem\">PERSON</span>\n",
              "</mark>\n",
              "'s valid income was Rs \n",
              "<mark class=\"entity\" style=\"background: #e4e7d2; padding: 0.45em 0.6em; margin: 0 0.25em; line-height: 1; border-radius: 0.35em;\">\n",
              "    86,469,751\n",
              "    <span style=\"font-size: 0.8em; font-weight: bold; line-height: 1; border-radius: 0.35em; vertical-align: middle; margin-left: 0.5rem\">MONEY</span>\n",
              "</mark>\n",
              " but his expenditure and investment was worth Rs 273,075,380.The \n",
              "<mark class=\"entity\" style=\"background: #7aecec; padding: 0.45em 0.6em; margin: 0 0.25em; line-height: 1; border-radius: 0.35em;\">\n",
              "    CIAA\n",
              "    <span style=\"font-size: 0.8em; font-weight: bold; line-height: 1; border-radius: 0.35em; vertical-align: middle; margin-left: 0.5rem\">ORG</span>\n",
              "</mark>\n",
              " had stated that during the investigation period, \n",
              "<mark class=\"entity\" style=\"background: #aa9cfc; padding: 0.45em 0.6em; margin: 0 0.25em; line-height: 1; border-radius: 0.35em;\">\n",
              "    Khadka\n",
              "    <span style=\"font-size: 0.8em; font-weight: bold; line-height: 1; border-radius: 0.35em; vertical-align: middle; margin-left: 0.5rem\">PERSON</span>\n",
              "</mark>\n",
              " bought \n",
              "<mark class=\"entity\" style=\"background: #e4e7d2; padding: 0.45em 0.6em; margin: 0 0.25em; line-height: 1; border-radius: 0.35em;\">\n",
              "    three\n",
              "    <span style=\"font-size: 0.8em; font-weight: bold; line-height: 1; border-radius: 0.35em; vertical-align: middle; margin-left: 0.5rem\">CARDINAL</span>\n",
              "</mark>\n",
              " houses. He also has an ancestral house. He made partial payments for \n",
              "<mark class=\"entity\" style=\"background: #e4e7d2; padding: 0.45em 0.6em; margin: 0 0.25em; line-height: 1; border-radius: 0.35em;\">\n",
              "    two\n",
              "    <span style=\"font-size: 0.8em; font-weight: bold; line-height: 1; border-radius: 0.35em; vertical-align: middle; margin-left: 0.5rem\">CARDINAL</span>\n",
              "</mark>\n",
              " other houses and also bought \n",
              "<mark class=\"entity\" style=\"background: #e4e7d2; padding: 0.45em 0.6em; margin: 0 0.25em; line-height: 1; border-radius: 0.35em;\">\n",
              "    11\n",
              "    <span style=\"font-size: 0.8em; font-weight: bold; line-height: 1; border-radius: 0.35em; vertical-align: middle; margin-left: 0.5rem\">CARDINAL</span>\n",
              "</mark>\n",
              " plots in \n",
              "<mark class=\"entity\" style=\"background: #feca74; padding: 0.45em 0.6em; margin: 0 0.25em; line-height: 1; border-radius: 0.35em;\">\n",
              "    Kathmandu\n",
              "    <span style=\"font-size: 0.8em; font-weight: bold; line-height: 1; border-radius: 0.35em; vertical-align: middle; margin-left: 0.5rem\">GPE</span>\n",
              "</mark>\n",
              ", \n",
              "<mark class=\"entity\" style=\"background: #feca74; padding: 0.45em 0.6em; margin: 0 0.25em; line-height: 1; border-radius: 0.35em;\">\n",
              "    Lalitpur\n",
              "    <span style=\"font-size: 0.8em; font-weight: bold; line-height: 1; border-radius: 0.35em; vertical-align: middle; margin-left: 0.5rem\">GPE</span>\n",
              "</mark>\n",
              ", \n",
              "<mark class=\"entity\" style=\"background: #feca74; padding: 0.45em 0.6em; margin: 0 0.25em; line-height: 1; border-radius: 0.35em;\">\n",
              "    Bhaktapur\n",
              "    <span style=\"font-size: 0.8em; font-weight: bold; line-height: 1; border-radius: 0.35em; vertical-align: middle; margin-left: 0.5rem\">GPE</span>\n",
              "</mark>\n",
              " and \n",
              "<mark class=\"entity\" style=\"background: #feca74; padding: 0.45em 0.6em; margin: 0 0.25em; line-height: 1; border-radius: 0.35em;\">\n",
              "    Kavreplanchowk\n",
              "    <span style=\"font-size: 0.8em; font-weight: bold; line-height: 1; border-radius: 0.35em; vertical-align: middle; margin-left: 0.5rem\">GPE</span>\n",
              "</mark>\n",
              " districts. \n",
              "<mark class=\"entity\" style=\"background: #aa9cfc; padding: 0.45em 0.6em; margin: 0 0.25em; line-height: 1; border-radius: 0.35em;\">\n",
              "    Khadka\n",
              "    <span style=\"font-size: 0.8em; font-weight: bold; line-height: 1; border-radius: 0.35em; vertical-align: middle; margin-left: 0.5rem\">PERSON</span>\n",
              "</mark>\n",
              " kept property worth \n",
              "<mark class=\"entity\" style=\"background: #e4e7d2; padding: 0.45em 0.6em; margin: 0 0.25em; line-height: 1; border-radius: 0.35em;\">\n",
              "    more than 70 million rupees\n",
              "    <span style=\"font-size: 0.8em; font-weight: bold; line-height: 1; border-radius: 0.35em; vertical-align: middle; margin-left: 0.5rem\">MONEY</span>\n",
              "</mark>\n",
              " in the name of \n",
              "<mark class=\"entity\" style=\"background: #aa9cfc; padding: 0.45em 0.6em; margin: 0 0.25em; line-height: 1; border-radius: 0.35em;\">\n",
              "    Amita Lama Sodemba\n",
              "    <span style=\"font-size: 0.8em; font-weight: bold; line-height: 1; border-radius: 0.35em; vertical-align: middle; margin-left: 0.5rem\">PERSON</span>\n",
              "</mark>\n",
              ", a resident of \n",
              "<mark class=\"entity\" style=\"background: #9cc9cc; padding: 0.45em 0.6em; margin: 0 0.25em; line-height: 1; border-radius: 0.35em;\">\n",
              "    Ward No 4\n",
              "    <span style=\"font-size: 0.8em; font-weight: bold; line-height: 1; border-radius: 0.35em; vertical-align: middle; margin-left: 0.5rem\">FAC</span>\n",
              "</mark>\n",
              " of \n",
              "<mark class=\"entity\" style=\"background: #feca74; padding: 0.45em 0.6em; margin: 0 0.25em; line-height: 1; border-radius: 0.35em;\">\n",
              "    Budhanilkantha Municipality\n",
              "    <span style=\"font-size: 0.8em; font-weight: bold; line-height: 1; border-radius: 0.35em; vertical-align: middle; margin-left: 0.5rem\">GPE</span>\n",
              "</mark>\n",
              ".</div></span>"
            ]
          },
          "metadata": {}
        }
      ]
    },
    {
      "cell_type": "code",
      "source": [],
      "metadata": {
        "id": "3hHCPZdlOV7f"
      },
      "execution_count": null,
      "outputs": []
    },
    {
      "cell_type": "markdown",
      "source": [
        "#Linguistic Feature:\n",
        "##Part-of-Speech\n",
        "\n",
        "\n",
        "\n",
        "\n"
      ],
      "metadata": {
        "id": "w-6DGzkfO0yr"
      }
    },
    {
      "cell_type": "code",
      "source": [
        "\n",
        "# Process whole documents\n",
        "text = \"\"\"KATHMANDU, JUNE 30The Special Court convicted former executive director of Nepal Oil Corporation Gopal Bahadur Khadka of corruption. A bench of the Special Court Chair Shree Kanta Paudel and Judges Sharligram Koirala and Khushi Prasad Tharu imposed one year and three months jail sentence and Rs 90.19 million fine on Khadka.The Commission for the Investigation of Abuse of Authority had on 7 January 2019 filed a corruption case against Khadka at the Special Court accusing him of amassing disproportionate assets worth more than Rs 180 million.\n",
        "According to Spokesperson for Special Court Dipendranath Yogi, the court also decided to confiscate Khadka's house, land, and shares as claimed by the CIAA.\"\"\"\n",
        "\n",
        "\n",
        "nlp = spacy.load('en_core_web_trf')\n",
        "doc = nlp(text)\n",
        "\n"
      ],
      "metadata": {
        "id": "D06DnVQMO3I2"
      },
      "execution_count": null,
      "outputs": []
    },
    {
      "cell_type": "code",
      "source": [
        "# print(\"text\", \"|\", \"Lemma\", '|', \"p\" )\n",
        "for token in doc:\n",
        "  print(token.text, '|', token.lemma_, '|', token.pos_, '|', token.tag_, '|', token.is_stop)"
      ],
      "metadata": {
        "colab": {
          "base_uri": "https://localhost:8080/"
        },
        "id": "Ayu88KO_PDDU",
        "outputId": "8fa105a6-5c54-4e91-ce6a-93a03c5b33e2"
      },
      "execution_count": null,
      "outputs": [
        {
          "output_type": "stream",
          "name": "stdout",
          "text": [
            "KATHMANDU | KATHMANDU | PROPN | NNP | False\n",
            ", | , | PUNCT | , | False\n",
            "JUNE | JUNE | PROPN | NNP | False\n",
            "30The | 30the | NUM | CD | False\n",
            "Special | Special | PROPN | NNP | False\n",
            "Court | Court | PROPN | NNP | False\n",
            "convicted | convict | VERB | VBD | False\n",
            "former | former | ADJ | JJ | True\n",
            "executive | executive | ADJ | JJ | False\n",
            "director | director | NOUN | NN | False\n",
            "of | of | ADP | IN | True\n",
            "Nepal | Nepal | PROPN | NNP | False\n",
            "Oil | Oil | PROPN | NNP | False\n",
            "Corporation | Corporation | PROPN | NNP | False\n",
            "Gopal | Gopal | PROPN | NNP | False\n",
            "Bahadur | Bahadur | PROPN | NNP | False\n",
            "Khadka | Khadka | PROPN | NNP | False\n",
            "of | of | ADP | IN | True\n",
            "corruption | corruption | NOUN | NN | False\n",
            ". | . | PUNCT | . | False\n",
            "A | a | DET | DT | True\n",
            "bench | bench | NOUN | NN | False\n",
            "of | of | ADP | IN | True\n",
            "the | the | DET | DT | True\n",
            "Special | Special | PROPN | NNP | False\n",
            "Court | Court | PROPN | NNP | False\n",
            "Chair | Chair | PROPN | NNP | False\n",
            "Shree | Shree | PROPN | NNP | False\n",
            "Kanta | Kanta | PROPN | NNP | False\n",
            "Paudel | Paudel | PROPN | NNP | False\n",
            "and | and | CCONJ | CC | True\n",
            "Judges | Judges | PROPN | NNPS | False\n",
            "Sharligram | Sharligram | PROPN | NNP | False\n",
            "Koirala | Koirala | PROPN | NNP | False\n",
            "and | and | CCONJ | CC | True\n",
            "Khushi | Khushi | PROPN | NNP | False\n",
            "Prasad | Prasad | PROPN | NNP | False\n",
            "Tharu | Tharu | PROPN | NNP | False\n",
            "imposed | impose | VERB | VBD | False\n",
            "one | one | NUM | CD | True\n",
            "year | year | NOUN | NN | False\n",
            "and | and | CCONJ | CC | True\n",
            "three | three | NUM | CD | True\n",
            "months | month | NOUN | NNS | False\n",
            "jail | jail | NOUN | NN | False\n",
            "sentence | sentence | NOUN | NN | False\n",
            "and | and | CCONJ | CC | True\n",
            "Rs | rs | SYM | $ | False\n",
            "90.19 | 90.19 | NUM | CD | False\n",
            "million | million | NUM | CD | False\n",
            "fine | fine | NOUN | NN | False\n",
            "on | on | ADP | IN | True\n",
            "Khadka | Khadka | PROPN | NNP | False\n",
            ". | . | PUNCT | . | False\n",
            "The | the | DET | DT | True\n",
            "Commission | Commission | PROPN | NNP | False\n",
            "for | for | ADP | IN | True\n",
            "the | the | DET | DT | True\n",
            "Investigation | Investigation | PROPN | NNP | False\n",
            "of | of | ADP | IN | True\n",
            "Abuse | Abuse | PROPN | NNP | False\n",
            "of | of | ADP | IN | True\n",
            "Authority | Authority | PROPN | NNP | False\n",
            "had | have | AUX | VBD | True\n",
            "on | on | ADP | IN | True\n",
            "7 | 7 | NUM | CD | False\n",
            "January | January | PROPN | NNP | False\n",
            "2019 | 2019 | NUM | CD | False\n",
            "filed | file | VERB | VBN | False\n",
            "a | a | DET | DT | True\n",
            "corruption | corruption | NOUN | NN | False\n",
            "case | case | NOUN | NN | False\n",
            "against | against | ADP | IN | True\n",
            "Khadka | Khadka | PROPN | NNP | False\n",
            "at | at | ADP | IN | True\n",
            "the | the | DET | DT | True\n",
            "Special | Special | PROPN | NNP | False\n",
            "Court | Court | PROPN | NNP | False\n",
            "accusing | accuse | VERB | VBG | False\n",
            "him | he | PRON | PRP | True\n",
            "of | of | ADP | IN | True\n",
            "amassing | amass | VERB | VBG | False\n",
            "disproportionate | disproportionate | ADJ | JJ | False\n",
            "assets | asset | NOUN | NNS | False\n",
            "worth | worth | ADJ | JJ | False\n",
            "more | more | ADJ | JJR | True\n",
            "than | than | ADP | IN | True\n",
            "Rs | rs | SYM | $ | False\n",
            "180 | 180 | NUM | CD | False\n",
            "million | million | NUM | CD | False\n",
            ". | . | PUNCT | . | False\n",
            "\n",
            " | \n",
            " | SPACE | _SP | False\n",
            "According | accord | VERB | VBG | False\n",
            "to | to | ADP | IN | True\n",
            "Spokesperson | Spokesperson | PROPN | NNP | False\n",
            "for | for | ADP | IN | True\n",
            "Special | Special | PROPN | NNP | False\n",
            "Court | Court | PROPN | NNP | False\n",
            "Dipendranath | Dipendranath | PROPN | NNP | False\n",
            "Yogi | Yogi | PROPN | NNP | False\n",
            ", | , | PUNCT | , | False\n",
            "the | the | DET | DT | True\n",
            "court | court | NOUN | NN | False\n",
            "also | also | ADV | RB | True\n",
            "decided | decide | VERB | VBD | False\n",
            "to | to | PART | TO | True\n",
            "confiscate | confiscate | VERB | VB | False\n",
            "Khadka | Khadka | PROPN | NNP | False\n",
            "'s | 's | PART | POS | True\n",
            "house | house | NOUN | NN | False\n",
            ", | , | PUNCT | , | False\n",
            "land | land | NOUN | NN | False\n",
            ", | , | PUNCT | , | False\n",
            "and | and | CCONJ | CC | True\n",
            "shares | share | NOUN | NNS | False\n",
            "as | as | SCONJ | IN | True\n",
            "claimed | claim | VERB | VBN | False\n",
            "by | by | ADP | IN | True\n",
            "the | the | DET | DT | True\n",
            "CIAA | CIAA | PROPN | NNP | False\n",
            ". | . | PUNCT | . | False\n"
          ]
        }
      ]
    },
    {
      "cell_type": "code",
      "source": [
        "# Analyze syntax\n",
        "print(\"Noun phrases:\", [chunk.text for chunk in doc.noun_chunks])\n",
        "print(\"Verbs:\", [token.lemma_ for token in doc if token.pos_ == \"VERB\"])"
      ],
      "metadata": {
        "colab": {
          "base_uri": "https://localhost:8080/"
        },
        "id": "Bt8-KiOmQKm2",
        "outputId": "b91b35f2-ca3a-449d-bc03-b8ce63ae586a"
      },
      "execution_count": null,
      "outputs": [
        {
          "output_type": "stream",
          "name": "stdout",
          "text": [
            "Noun phrases: ['KATHMANDU', 'Special Court', 'Nepal Oil Corporation', 'corruption', 'A bench', 'the Special Court Chair', 'Shree Kanta Paudel', 'Judges Sharligram Koirala', 'Khushi Prasad Tharu', 'one year and three months jail sentence', 'Rs 90.19 million fine', 'Khadka', 'The Commission', 'the Investigation', 'Abuse', 'Authority', '7 January', 'a corruption case', 'Khadka', 'the Special Court', 'him', 'disproportionate assets', 'Special Court', 'the court', \"Khadka's house\", 'land', 'shares', 'the CIAA']\n",
            "Verbs: ['convict', 'impose', 'file', 'accuse', 'amass', 'accord', 'decide', 'confiscate', 'claim']\n"
          ]
        }
      ]
    },
    {
      "cell_type": "code",
      "source": [],
      "metadata": {
        "id": "XIupLy7QRC8M"
      },
      "execution_count": null,
      "outputs": []
    },
    {
      "cell_type": "markdown",
      "source": [
        "#BERT NER\n",
        "Model description\n",
        "bert-base-NER is a fine-tuned BERT model that is ready to use for Named Entity Recognition and achieves state-of-the-art performance for the NER task. It has been trained to recognize four types of entities: location (LOC), organizations (ORG), person (PER) and Miscellaneous (MISC).\n",
        "\n",
        "Specifically, this model is a bert-base-cased model that was fine-tuned on the English version of the standard CoNLL-2003 Named Entity Recognition dataset.\n",
        "\n",
        "If you'd like to use a larger BERT-large model fine-tuned on the same dataset, a bert-large-NER version is also available."
      ],
      "metadata": {
        "id": "qMcQtBnnRUjA"
      }
    },
    {
      "cell_type": "code",
      "source": [
        "from transformers import AutoTokenizer, AutoModelForTokenClassification\n",
        "from transformers import pipeline\n",
        "\n",
        "tokenizer = AutoTokenizer.from_pretrained(\"dslim/bert-base-NER\")\n",
        "model = AutoModelForTokenClassification.from_pretrained(\"dslim/bert-base-NER\")\n",
        "\n",
        "nlp = pipeline(\"ner\", model=model, tokenizer=tokenizer)\n",
        "\n",
        "\n",
        "ner_results = nlp(text)\n",
        "print(ner_results)"
      ],
      "metadata": {
        "colab": {
          "base_uri": "https://localhost:8080/"
        },
        "id": "OlmFKSgVRWhj",
        "outputId": "ec4e97a8-ee01-4872-e97e-2c3dc2fb8aab"
      },
      "execution_count": null,
      "outputs": [
        {
          "output_type": "stream",
          "name": "stdout",
          "text": [
            "[{'entity': 'B-ORG', 'score': 0.57765186, 'index': 1, 'word': 'K', 'start': 0, 'end': 1}, {'entity': 'I-ORG', 'score': 0.8084216, 'index': 2, 'word': '##AT', 'start': 1, 'end': 3}, {'entity': 'I-ORG', 'score': 0.9256405, 'index': 3, 'word': '##H', 'start': 3, 'end': 4}, {'entity': 'I-ORG', 'score': 0.924499, 'index': 4, 'word': '##MA', 'start': 4, 'end': 6}, {'entity': 'I-ORG', 'score': 0.90413445, 'index': 5, 'word': '##ND', 'start': 6, 'end': 8}, {'entity': 'I-ORG', 'score': 0.8392241, 'index': 6, 'word': '##U', 'start': 8, 'end': 9}, {'entity': 'B-ORG', 'score': 0.9869811, 'index': 14, 'word': 'Special', 'start': 22, 'end': 29}, {'entity': 'I-ORG', 'score': 0.97357464, 'index': 15, 'word': 'Court', 'start': 30, 'end': 35}, {'entity': 'B-ORG', 'score': 0.99940753, 'index': 21, 'word': 'Nepal', 'start': 75, 'end': 80}, {'entity': 'I-ORG', 'score': 0.9993749, 'index': 22, 'word': 'Oil', 'start': 81, 'end': 84}, {'entity': 'I-ORG', 'score': 0.99930155, 'index': 23, 'word': 'Corporation', 'start': 85, 'end': 96}, {'entity': 'B-PER', 'score': 0.99923694, 'index': 24, 'word': 'Go', 'start': 97, 'end': 99}, {'entity': 'B-PER', 'score': 0.9122415, 'index': 25, 'word': '##pal', 'start': 99, 'end': 102}, {'entity': 'I-PER', 'score': 0.9943856, 'index': 26, 'word': 'Bahadur', 'start': 103, 'end': 110}, {'entity': 'I-PER', 'score': 0.99778724, 'index': 27, 'word': 'K', 'start': 111, 'end': 112}, {'entity': 'I-PER', 'score': 0.95566034, 'index': 28, 'word': '##had', 'start': 112, 'end': 115}, {'entity': 'I-PER', 'score': 0.8877706, 'index': 29, 'word': '##ka', 'start': 115, 'end': 117}, {'entity': 'B-ORG', 'score': 0.9947296, 'index': 37, 'word': 'Special', 'start': 148, 'end': 155}, {'entity': 'I-ORG', 'score': 0.9899838, 'index': 38, 'word': 'Court', 'start': 156, 'end': 161}, {'entity': 'B-PER', 'score': 0.99933213, 'index': 40, 'word': 'S', 'start': 168, 'end': 169}, {'entity': 'B-PER', 'score': 0.96557426, 'index': 41, 'word': '##hr', 'start': 169, 'end': 171}, {'entity': 'B-PER', 'score': 0.9751143, 'index': 42, 'word': '##ee', 'start': 171, 'end': 173}, {'entity': 'I-PER', 'score': 0.99895453, 'index': 43, 'word': 'Ka', 'start': 174, 'end': 176}, {'entity': 'I-PER', 'score': 0.9920547, 'index': 44, 'word': '##nta', 'start': 176, 'end': 179}, {'entity': 'I-PER', 'score': 0.9995964, 'index': 45, 'word': 'Pa', 'start': 180, 'end': 182}, {'entity': 'I-PER', 'score': 0.93338704, 'index': 46, 'word': '##ude', 'start': 182, 'end': 185}, {'entity': 'I-PER', 'score': 0.9073351, 'index': 47, 'word': '##l', 'start': 185, 'end': 186}, {'entity': 'B-PER', 'score': 0.9992291, 'index': 50, 'word': 'S', 'start': 198, 'end': 199}, {'entity': 'B-PER', 'score': 0.99927026, 'index': 51, 'word': '##har', 'start': 199, 'end': 202}, {'entity': 'I-PER', 'score': 0.58717364, 'index': 52, 'word': '##li', 'start': 202, 'end': 204}, {'entity': 'I-PER', 'score': 0.9706397, 'index': 53, 'word': '##gram', 'start': 204, 'end': 208}, {'entity': 'I-PER', 'score': 0.9994623, 'index': 54, 'word': 'Ko', 'start': 209, 'end': 211}, {'entity': 'I-PER', 'score': 0.922086, 'index': 55, 'word': '##ira', 'start': 211, 'end': 214}, {'entity': 'I-PER', 'score': 0.89779717, 'index': 56, 'word': '##la', 'start': 214, 'end': 216}, {'entity': 'B-PER', 'score': 0.9992712, 'index': 58, 'word': 'K', 'start': 221, 'end': 222}, {'entity': 'B-PER', 'score': 0.9364606, 'index': 59, 'word': '##hus', 'start': 222, 'end': 225}, {'entity': 'B-PER', 'score': 0.86758864, 'index': 60, 'word': '##hi', 'start': 225, 'end': 227}, {'entity': 'I-PER', 'score': 0.99410915, 'index': 61, 'word': 'Prasad', 'start': 228, 'end': 234}, {'entity': 'I-PER', 'score': 0.99833184, 'index': 62, 'word': 'T', 'start': 235, 'end': 236}, {'entity': 'I-PER', 'score': 0.7811011, 'index': 63, 'word': '##har', 'start': 236, 'end': 239}, {'entity': 'B-PER', 'score': 0.99784815, 'index': 81, 'word': 'K', 'start': 318, 'end': 319}, {'entity': 'I-PER', 'score': 0.6863923, 'index': 82, 'word': '##had', 'start': 319, 'end': 322}, {'entity': 'B-ORG', 'score': 0.9991027, 'index': 86, 'word': 'Commission', 'start': 329, 'end': 339}, {'entity': 'I-ORG', 'score': 0.99882, 'index': 87, 'word': 'for', 'start': 340, 'end': 343}, {'entity': 'I-ORG', 'score': 0.9984459, 'index': 88, 'word': 'the', 'start': 344, 'end': 347}, {'entity': 'I-ORG', 'score': 0.99868315, 'index': 89, 'word': 'Investigation', 'start': 348, 'end': 361}, {'entity': 'I-ORG', 'score': 0.99796355, 'index': 90, 'word': 'of', 'start': 362, 'end': 364}, {'entity': 'I-ORG', 'score': 0.9966181, 'index': 91, 'word': 'Abu', 'start': 365, 'end': 368}, {'entity': 'I-ORG', 'score': 0.9971306, 'index': 92, 'word': '##se', 'start': 368, 'end': 370}, {'entity': 'I-ORG', 'score': 0.9976127, 'index': 93, 'word': 'of', 'start': 371, 'end': 373}, {'entity': 'I-ORG', 'score': 0.9985831, 'index': 94, 'word': 'Authority', 'start': 374, 'end': 383}, {'entity': 'B-PER', 'score': 0.9989973, 'index': 105, 'word': 'K', 'start': 438, 'end': 439}, {'entity': 'I-PER', 'score': 0.60220677, 'index': 106, 'word': '##had', 'start': 439, 'end': 442}, {'entity': 'I-PER', 'score': 0.5145645, 'index': 107, 'word': '##ka', 'start': 442, 'end': 444}, {'entity': 'B-ORG', 'score': 0.993155, 'index': 110, 'word': 'Special', 'start': 452, 'end': 459}, {'entity': 'I-ORG', 'score': 0.9796076, 'index': 111, 'word': 'Court', 'start': 460, 'end': 465}, {'entity': 'B-ORG', 'score': 0.85697675, 'index': 139, 'word': 'Special', 'start': 577, 'end': 584}, {'entity': 'B-PER', 'score': 0.99884593, 'index': 141, 'word': 'Di', 'start': 591, 'end': 593}, {'entity': 'B-PER', 'score': 0.9896634, 'index': 142, 'word': '##pen', 'start': 593, 'end': 596}, {'entity': 'I-PER', 'score': 0.71389216, 'index': 143, 'word': '##dra', 'start': 596, 'end': 599}, {'entity': 'I-PER', 'score': 0.852973, 'index': 144, 'word': '##nath', 'start': 599, 'end': 603}, {'entity': 'I-PER', 'score': 0.99923646, 'index': 145, 'word': 'Yo', 'start': 604, 'end': 606}, {'entity': 'I-PER', 'score': 0.9027705, 'index': 146, 'word': '##gi', 'start': 606, 'end': 608}, {'entity': 'B-PER', 'score': 0.9961928, 'index': 157, 'word': 'K', 'start': 647, 'end': 648}, {'entity': 'I-PER', 'score': 0.59742314, 'index': 158, 'word': '##had', 'start': 648, 'end': 651}, {'entity': 'I-PER', 'score': 0.3753509, 'index': 159, 'word': '##ka', 'start': 651, 'end': 653}, {'entity': 'B-ORG', 'score': 0.99832934, 'index': 172, 'word': 'CIA', 'start': 698, 'end': 701}, {'entity': 'I-ORG', 'score': 0.99193454, 'index': 173, 'word': '##A', 'start': 701, 'end': 702}]\n"
          ]
        }
      ]
    },
    {
      "cell_type": "code",
      "source": [
        "KATHMANDU, JUNE 30The Special Court convicted former executive director of Nepal Oil Corporation Gopal Bahadur Khadka of corruption. A bench of the Special Court Chair Shree Kanta Paudel and Judges Sharligram Koirala and Khushi Prasad Tharu imposed one year and three months jail sentence and Rs 90.19 million fine on Khadka.The Commission for the Investigation of Abuse of Authority had on 7 January 2019 filed a corruption case against Khadka at the Special Court accusing him of amassing disproportionate assets worth more than Rs 180 million.\n",
        "According\n",
        "\n",
        "\n",
        "\n",
        "  [{'entity': 'B-ORG',\n",
        "  'score': 0.57765186,\n",
        "  'index': 1,\n",
        "  'word': 'K',\n",
        "  'start': 0,\n",
        "  'end': 1},\n",
        "{'entity': 'I-ORG', 'score': 0.8084216, 'index': 2, 'word': '##AT', 'start': 1, 'end': 3},\n",
        "{'entity': 'I-ORG', 'score': 0.9256405, 'index': 3, 'word': '##H', 'start': 3, 'end': 4},\n",
        "{'entity': 'I-ORG', 'score': 0.924499, 'index': 4, 'word': '##MA', 'start': 4, 'end': 6},\n",
        "{'entity': 'I-ORG', 'score': 0.90413445, 'index': 5, 'word': '##ND', 'start': 6, 'end': 8},\n",
        "{'entity': 'I-ORG', 'score': 0.8392241, 'index': 6, 'word': '##U', 'start': 8, 'end': 9},\n",
        "{'entity': 'B-ORG', 'score': 0.9869811, 'index': 14, 'word': 'Special', 'start': 22, 'end': 29},\n",
        "{'entity': 'I-ORG', 'score': 0.97357464, 'index': 15, 'word': 'Court', 'start': 30, 'end': 35},\n",
        "{'entity': 'B-ORG', 'score': 0.99940753, 'index': 21, 'word': 'Nepal', 'start': 75, 'end': 80},\n",
        "{'entity': 'I-ORG', 'score': 0.9993749, 'index': 22, 'word': 'Oil', 'start': 81, 'end': 84},\n",
        "{'entity': 'I-ORG', 'score': 0.99930155, 'index': 23, 'word': 'Corporation', 'start': 85, 'end': 96},\n",
        "{'entity': 'B-PER', 'score': 0.99923694, 'index': 24, 'word': 'Go', 'start': 97, 'end': 99},\n",
        "{'entity': 'B-PER', 'score': 0.9122415, 'index': 25, 'word': '##pal', 'start': 99, 'end': 102},\n",
        "{'entity': 'I-PER', 'score': 0.9943856, 'index': 26, 'word': 'Bahadur', 'start': 103, 'end': 110},\n",
        "{'entity': 'I-PER', 'score': 0.99778724, 'index': 27, 'word': 'K', 'start': 111, 'end': 112},\n",
        "{'entity': 'I-PER', 'score': 0.95566034, 'index': 28, 'word': '##had', 'start': 112, 'end': 115},\n",
        "{'entity': 'I-PER', 'score': 0.8877706, 'index': 29, 'word': '##ka', 'start': 115, 'end': 117},\n",
        "{'entity': 'B-ORG', 'score': 0.9947296, 'index': 37, 'word': 'Special', 'start': 148, 'end': 155},\n",
        "{'entity': 'I-ORG', 'score': 0.9899838, 'index': 38, 'word': 'Court', 'start': 156, 'end': 161},\n",
        "{'entity': 'B-PER', 'score': 0.99933213, 'index': 40, 'word': 'S', 'start': 168, 'end': 169},\n",
        "{'entity': 'B-PER', 'score': 0.96557426, 'index': 41, 'word': '##hr', 'start': 169, 'end': 171},\n",
        "{'entity': 'B-PER', 'score': 0.9751143, 'index': 42, 'word': '##ee', 'start': 171, 'end': 173},\n",
        "                        {'entity': 'I-PER', 'score': 0.99895453, 'index': 43, 'word': 'Ka', 'start': 174, 'end': 176},\n",
        "                         {'entity': 'I-PER', 'score': 0.9920547, 'index': 44, 'word': '##nta', 'start': 176, 'end': 179},\n",
        "                          {'entity': 'I-PER', 'score': 0.9995964, 'index': 45, 'word': 'Pa', 'start': 180, 'end': 182},\n",
        "                           {'entity': 'I-PER', 'score': 0.93338704, 'index': 46, 'word': '##ude', 'start': 182, 'end': 185},\n",
        "                            {'entity': 'I-PER', 'score': 0.9073351, 'index': 47, 'word': '##l', 'start': 185, 'end': 186},\n",
        "                             {'entity': 'B-PER', 'score': 0.9992291, 'index': 50, 'word': 'S', 'start': 198, 'end': 199},\n",
        "                              {'entity': 'B-PER', 'score': 0.99927026, 'index': 51, 'word': '##har', 'start': 199, 'end': 202},\n",
        "                               {'entity': 'I-PER', 'score': 0.58717364, 'index': 52, 'word': '##li', 'start': 202, 'end': 204},\n",
        "                                {'entity': 'I-PER', 'score': 0.9706397, 'index': 53, 'word': '##gram', 'start': 204, 'end': 208}, {'entity': 'I-PER', 'score': 0.9994623, 'index': 54, 'word': 'Ko', 'start': 209, 'end': 211}, {'entity': 'I-PER', 'score': 0.922086, 'index': 55, 'word': '##ira', 'start': 211, 'end': 214}, {'entity': 'I-PER', 'score': 0.89779717, 'index': 56, 'word': '##la', 'start': 214, 'end': 216}, {'entity': 'B-PER', 'score': 0.9992712, 'index': 58, 'word': 'K', 'start': 221, 'end': 222}, {'entity': 'B-PER', 'score': 0.9364606, 'index': 59, 'word': '##hus', 'start': 222, 'end': 225}, {'entity': 'B-PER', 'score': 0.86758864, 'index': 60, 'word': '##hi', 'start': 225, 'end': 227}, {'entity': 'I-PER', 'score': 0.99410915, 'index': 61, 'word': 'Prasad', 'start': 228, 'end': 234}, {'entity': 'I-PER', 'score': 0.99833184, 'index': 62, 'word': 'T', 'start': 235, 'end': 236}, {'entity': 'I-PER', 'score': 0.7811011, 'index': 63, 'word': '##har', 'start': 236, 'end': 239}, {'entity': 'B-PER', 'score': 0.99784815, 'index': 81, 'word': 'K', 'start': 318, 'end': 319}, {'entity': 'I-PER', 'score': 0.6863923, 'index': 82, 'word': '##had', 'start': 319, 'end': 322}, {'entity': 'B-ORG', 'score': 0.9991027, 'index': 86, 'word': 'Commission', 'start': 329, 'end': 339}, {'entity': 'I-ORG', 'score': 0.99882, 'index': 87, 'word': 'for', 'start': 340, 'end': 343}, {'entity': 'I-ORG', 'score': 0.9984459, 'index': 88, 'word': 'the', 'start': 344, 'end': 347}, {'entity': 'I-ORG', 'score': 0.99868315, 'index': 89, 'word': 'Investigation', 'start': 348, 'end': 361}, {'entity': 'I-ORG', 'score': 0.99796355, 'index': 90, 'word': 'of', 'start': 362, 'end': 364}, {'entity': 'I-ORG', 'score': 0.9966181, 'index': 91, 'word': 'Abu', 'start': 365, 'end': 368}, {'entity': 'I-ORG', 'score': 0.9971306, 'index': 92, 'word': '##se', 'start': 368, 'end': 370}, {'entity': 'I-ORG', 'score': 0.9976127, 'index': 93, 'word': 'of', 'start': 371, 'end': 373}, {'entity': 'I-ORG', 'score': 0.9985831, 'index': 94, 'word': 'Authority', 'start': 374, 'end': 383}, {'entity': 'B-PER', 'score': 0.9989973, 'index': 105, 'word': 'K', 'start': 438, 'end': 439}, {'entity': 'I-PER', 'score': 0.60220677, 'index': 106, 'word': '##had', 'start': 439, 'end': 442}, {'entity': 'I-PER', 'score': 0.5145645, 'index': 107, 'word': '##ka', 'start': 442, 'end': 444}, {'entity': 'B-ORG', 'score': 0.993155, 'index': 110, 'word': 'Special', 'start': 452, 'end': 459}, {'entity': 'I-ORG', 'score': 0.9796076, 'index': 111, 'word': 'Court', 'start': 460, 'end': 465}, {'entity': 'B-ORG', 'score': 0.85697675, 'index': 139, 'word': 'Special', 'start': 577, 'end': 584}, {'entity': 'B-PER', 'score': 0.99884593, 'index': 141, 'word': 'Di', 'start': 591, 'end': 593}, {'entity': 'B-PER', 'score': 0.9896634, 'index': 142, 'word': '##pen', 'start': 593, 'end': 596}, {'entity': 'I-PER', 'score': 0.71389216, 'index': 143, 'word': '##dra', 'start': 596, 'end': 599}, {'entity': 'I-PER', 'score': 0.852973, 'index': 144, 'word': '##nath', 'start': 599, 'end': 603}, {'entity': 'I-PER', 'score': 0.99923646, 'index': 145, 'word': 'Yo', 'start': 604, 'end': 606}, {'entity': 'I-PER', 'score': 0.9027705, 'index': 146, 'word': '##gi', 'start': 606, 'end': 608}, {'entity': 'B-PER', 'score': 0.9961928, 'index': 157, 'word': 'K', 'start': 647, 'end': 648}, {'entity': 'I-PER', 'score': 0.59742314, 'index': 158, 'word': '##had', 'start': 648, 'end': 651}, {'entity': 'I-PER', 'score': 0.3753509, 'index': 159, 'word': '##ka', 'start': 651, 'end': 653}, {'entity': 'B-ORG', 'score': 0.99832934, 'index': 172, 'word': 'CIA', 'start': 698, 'end': 701}, {'entity': 'I-ORG', 'score': 0.99193454, 'index': 173, 'word': '##A', 'start': 701, 'end': 702}]\n"
      ],
      "metadata": {
        "id": "09GwnRbVRl8P"
      },
      "execution_count": null,
      "outputs": []
    },
    {
      "cell_type": "code",
      "source": [
        "nlp = spacy.load('en_core_web_sm')\n",
        "doc = nlp(\"My name is Sita.\")\n",
        "doc1 = nlp(\"My name is Ram.\")\n",
        "doc.similarity(doc1)"
      ],
      "metadata": {
        "colab": {
          "base_uri": "https://localhost:8080/"
        },
        "id": "gPtDjgMOTlEQ",
        "outputId": "aa959381-ec6d-4acb-c9ab-92ef684abd5d"
      },
      "execution_count": null,
      "outputs": [
        {
          "output_type": "stream",
          "name": "stderr",
          "text": [
            "<ipython-input-50-6c4b69edf4ae>:4: UserWarning: [W007] The model you're using has no word vectors loaded, so the result of the Doc.similarity method will be based on the tagger, parser and NER, which may not give useful similarity judgements. This may happen if you're using one of the small models, e.g. `en_core_web_sm`, which don't ship with word vectors and only use context-sensitive tensors. You can always add your own word vectors, or use one of the larger models instead if available.\n",
            "  doc.similarity(doc1)\n"
          ]
        },
        {
          "output_type": "execute_result",
          "data": {
            "text/plain": [
              "0.9176123699566578"
            ]
          },
          "metadata": {},
          "execution_count": 50
        }
      ]
    },
    {
      "cell_type": "code",
      "source": [],
      "metadata": {
        "id": "KA0dWP_5UpVb"
      },
      "execution_count": null,
      "outputs": []
    }
  ]
}